{
 "cells": [
  {
   "cell_type": "markdown",
   "source": [
    "# 🗄️ 我們手上擁有的資料"
   ],
   "metadata": {
    "id": "vFjDuhnVdqcd"
   }
  },
  {
   "cell_type": "code",
   "execution_count": 2,
   "source": [
    "import datetime as dt\n",
    "import pytz\n",
    "\n",
    "CST = \"Asia/Taipei\"\n",
    "\n",
    "def print_now(time_zone=\"ROC\") -> None:\n",
    "    # print(\"Local Time = \", dt.datetime.now(pytz.timezone(\"Asia/Taipei\")))\n",
    "    print(\"Local Time = \", \n",
    "          dt.datetime.now(pytz.timezone(time_zone)).strftime('%a %Y-%m-%d %X, %Z'))\n",
    "          \n",
    "def tprint(*args, **kwargs):\n",
    "    print(*args, **kwargs)\n",
    "    # print('')\n",
    "    print_now()"
   ],
   "outputs": [],
   "metadata": {
    "id": "q5XGxqtDiSpn"
   }
  },
  {
   "cell_type": "code",
   "execution_count": 3,
   "source": [
    "posts = [\n",
    "    {\n",
    "        'id': '001',\n",
    "        'title': '如何成為好人',\n",
    "        'tags': ['life', 'people'],\n",
    "        'views': 100\n",
    "    },\n",
    "    {\n",
    "        'id': '002',\n",
    "        'title': '如何不工作',\n",
    "        'tags': ['work', 'people'],\n",
    "        'views': 1000\n",
    "    },\n",
    "    {\n",
    "        'id': '003',\n",
    "        'title': '如何睡好覺',\n",
    "        'tags': ['sleep', 'life', 'people'],\n",
    "        'views': 500\n",
    "    },\n",
    "    {\n",
    "        'id': '004',\n",
    "        'title': '如何變強',\n",
    "        'tags': ['work', 'life', 'people'],\n",
    "        'views': 50\n",
    "    },\n",
    "    {\n",
    "        'id': '005',\n",
    "        'title': '如何睡好覺II',\n",
    "        'tags': ['sleep', 'life', 'people'],\n",
    "        'views': 500\n",
    "    },\n",
    "]\n",
    "\n",
    "tprint('posts defined and loaded')"
   ],
   "outputs": [
    {
     "output_type": "stream",
     "name": "stdout",
     "text": [
      "posts defined and loaded\n",
      "Local Time =  Mon 2021-10-04 09:58:30, CST\n"
     ]
    }
   ],
   "metadata": {
    "colab": {
     "base_uri": "https://localhost:8080/"
    },
    "id": "OYCQuvLL_2Wt",
    "outputId": "b804256d-ff6f-4cdb-f221-399fc45d98e3"
   }
  },
  {
   "cell_type": "markdown",
   "source": [
    "# 🗒️ 先做個簡單調查"
   ],
   "metadata": {
    "id": "9qNzdlVbdcZ1"
   }
  },
  {
   "cell_type": "markdown",
   "source": [
    " - [type() function in Python](https://www.geeksforgeeks.org/python-type-function/)\n",
    " - [Iterate through list using a for loop](https://www.askpython.com/python/list/iterate-through-list-in-python)\n",
    " - [Python break, continue and pass Statements](https://www.tutorialspoint.com/python/python_loop_control.htm)"
   ],
   "metadata": {
    "id": "0qeG-x-0fV47"
   }
  },
  {
   "cell_type": "code",
   "execution_count": 9,
   "source": [
    "type(posts)"
   ],
   "outputs": [
    {
     "output_type": "execute_result",
     "data": {
      "text/plain": [
       "list"
      ]
     },
     "metadata": {},
     "execution_count": 9
    }
   ],
   "metadata": {}
  },
  {
   "cell_type": "code",
   "execution_count": 10,
   "source": [
    "type(posts[0])"
   ],
   "outputs": [
    {
     "output_type": "execute_result",
     "data": {
      "text/plain": [
       "dict"
      ]
     },
     "metadata": {},
     "execution_count": 10
    }
   ],
   "metadata": {}
  },
  {
   "cell_type": "code",
   "execution_count": 11,
   "source": [
    "for p in posts:\n",
    "    for element in p:\n",
    "        print('key:', element)\n",
    "    break"
   ],
   "outputs": [
    {
     "output_type": "stream",
     "name": "stdout",
     "text": [
      "key: id\n",
      "key: title\n",
      "key: tags\n",
      "key: views\n"
     ]
    }
   ],
   "metadata": {}
  },
  {
   "cell_type": "markdown",
   "source": [
    "# ❓ 問題來啦："
   ],
   "metadata": {
    "id": "ZjpVdwHfdj-j"
   }
  },
  {
   "cell_type": "markdown",
   "source": [
    "## ⓵ 計算文章的平均瀏覽數"
   ],
   "metadata": {
    "id": "A3JoTejo_2Wv"
   }
  },
  {
   "cell_type": "code",
   "execution_count": 16,
   "source": [
    "# views\n",
    "total_views = 0\n",
    "for post in posts:\n",
    "    total_views = total_views + post['views']\n",
    "    \n",
    "print(total_views/len(posts))"
   ],
   "outputs": [
    {
     "output_type": "stream",
     "name": "stdout",
     "text": [
      "430.0\n"
     ]
    }
   ],
   "metadata": {}
  },
  {
   "cell_type": "code",
   "execution_count": 21,
   "source": [
    "#sol 1\n",
    "total_views = sum([\n",
    "    post['views']\n",
    "    for post in posts\n",
    "])\n",
    "print(total_views / len(posts))\n",
    "\n",
    "#sol 2\n",
    "views = [post['views'] for post in posts]\n",
    "sum(views) / len(views)"
   ],
   "outputs": [
    {
     "output_type": "stream",
     "name": "stdout",
     "text": [
      "430.0\n"
     ]
    },
    {
     "output_type": "execute_result",
     "data": {
      "text/plain": [
       "430.0"
      ]
     },
     "metadata": {},
     "execution_count": 21
    }
   ],
   "metadata": {}
  },
  {
   "cell_type": "code",
   "execution_count": 24,
   "source": [
    "from statistics import mean\n",
    "\n",
    "mean(views)"
   ],
   "outputs": [
    {
     "output_type": "execute_result",
     "data": {
      "text/plain": [
       "430"
      ]
     },
     "metadata": {},
     "execution_count": 24
    }
   ],
   "metadata": {}
  },
  {
   "cell_type": "code",
   "execution_count": 25,
   "source": [
    "import numpy as np\n",
    "\n",
    "np.mean(views)"
   ],
   "outputs": [
    {
     "output_type": "execute_result",
     "data": {
      "text/plain": [
       "430.0"
      ]
     },
     "metadata": {},
     "execution_count": 25
    }
   ],
   "metadata": {}
  },
  {
   "cell_type": "markdown",
   "source": [
    "- [Python Opeators](https://www.w3schools.com/python/python_operators.asp)"
   ],
   "metadata": {
    "id": "QPrg4q9HbrGP"
   }
  },
  {
   "cell_type": "markdown",
   "source": [
    "## ⓶ 找出瀏覽數超過 200 的文章標題"
   ],
   "metadata": {
    "id": "rm5iUljN_2W0"
   }
  },
  {
   "cell_type": "code",
   "execution_count": 41,
   "source": [
    "over_200_list = []\n",
    "for post in posts:\n",
    "    if post['views'] > 200:\n",
    "        over_200_list.append(post['title'])\n",
    "print(over_200_list)"
   ],
   "outputs": [
    {
     "output_type": "stream",
     "name": "stdout",
     "text": [
      "['如何不工作', '如何睡好覺', '如何睡好覺II']\n"
     ]
    }
   ],
   "metadata": {}
  },
  {
   "cell_type": "code",
   "execution_count": 44,
   "source": [
    "# views\n",
    "over_200_list = [\n",
    "    post['title']\n",
    "    for post in posts\n",
    "    if post['views'] > 200 \n",
    "]\n",
    "\n",
    "print(over_200_list)"
   ],
   "outputs": [
    {
     "output_type": "stream",
     "name": "stdout",
     "text": [
      "['如何不工作', '如何睡好覺', '如何睡好覺II']\n"
     ]
    }
   ],
   "metadata": {}
  },
  {
   "cell_type": "markdown",
   "source": [
    "<font color='firebrick'>list comprehension</font>   ---》**[**你指定的資料 for each in container 過濾條件**]**"
   ],
   "metadata": {
    "id": "PaH2668yux3i"
   }
  },
  {
   "cell_type": "markdown",
   "source": [
    "## ⓷ 找出所有的 tag"
   ],
   "metadata": {
    "id": "lIgLRXBP_2W1"
   }
  },
  {
   "cell_type": "code",
   "execution_count": 56,
   "source": [
    "# tag\n",
    "tag_list = []\n",
    "for post in posts:\n",
    "    # tag_count_list.append(post['tags'])\n",
    "    for tag in post['tags']:\n",
    "        tag_list.append(tag)\n",
    "\n",
    "set(tag_list)"
   ],
   "outputs": [
    {
     "output_type": "execute_result",
     "data": {
      "text/plain": [
       "{'life', 'people', 'sleep', 'work'}"
      ]
     },
     "metadata": {},
     "execution_count": 56
    }
   ],
   "metadata": {}
  },
  {
   "cell_type": "code",
   "execution_count": 58,
   "source": [
    "tag_set = set() #空集合\n",
    "\n",
    "for post in posts:\n",
    "    tag_set |= set(post['tags']) #聯集\n",
    "tag_set"
   ],
   "outputs": [
    {
     "output_type": "execute_result",
     "data": {
      "text/plain": [
       "{'life', 'people', 'sleep', 'work'}"
      ]
     },
     "metadata": {},
     "execution_count": 58
    }
   ],
   "metadata": {}
  },
  {
   "cell_type": "code",
   "execution_count": 61,
   "source": [
    "set([\n",
    "    tags\n",
    "    for post in posts \n",
    "    for tags in post['tags'\n",
    "]])"
   ],
   "outputs": [
    {
     "output_type": "execute_result",
     "data": {
      "text/plain": [
       "{'life', 'people', 'sleep', 'work'}"
      ]
     },
     "metadata": {},
     "execution_count": 61
    }
   ],
   "metadata": {}
  },
  {
   "cell_type": "markdown",
   "source": [
    "- [Sets in Python](https://realpython.com/python-sets/)\n",
    "- [[Python] 學習使用集合 (Set)](https://wenyuangg.github.io/posts/python3/python-set.html)"
   ],
   "metadata": {
    "id": "mk8Szt-wv2iW"
   }
  },
  {
   "cell_type": "markdown",
   "source": [
    "## ⓸ 將瀏覽數超過 200 的標記為「爆」💣，其他為「普」，並統計「普」跟「爆」的數量"
   ],
   "metadata": {
    "id": "aZJy6vAp_2W3"
   }
  },
  {
   "cell_type": "code",
   "execution_count": 66,
   "source": [
    "# view\n",
    "# copy () 複製資料至另一塊記憶體\n",
    "\n",
    "level1 = 0\n",
    "level2 = 0\n",
    "\n",
    "for post in posts:\n",
    "        if post['views'] > 200:\n",
    "            post['tags'].append('爆')\n",
    "        else\n",
    "            post['tags'].append('普')\n",
    "    if \n",
    "    Counter(post['tag'])\n"
   ],
   "outputs": [
    {
     "output_type": "error",
     "ename": "IndentationError",
     "evalue": "unindent does not match any outer indentation level (<tokenize>, line 9)",
     "traceback": [
      "\u001b[0;36m  File \u001b[0;32m\"<tokenize>\"\u001b[0;36m, line \u001b[0;32m9\u001b[0m\n\u001b[0;31m    Counter(post['tag']['爆'])\u001b[0m\n\u001b[0m    ^\u001b[0m\n\u001b[0;31mIndentationError\u001b[0m\u001b[0;31m:\u001b[0m unindent does not match any outer indentation level\n"
     ]
    }
   ],
   "metadata": {}
  },
  {
   "cell_type": "markdown",
   "source": [
    "## ⓹ 列出瀏覽數最低的三篇文章標題"
   ],
   "metadata": {
    "id": "nEEiKxHx_2W4"
   }
  },
  {
   "cell_type": "code",
   "execution_count": 86,
   "source": [
    "count_views = []\n",
    "for post in posts:\n",
    "    count_views.append((post['views'], post['title']))\n",
    "\n",
    "print(count_views)"
   ],
   "outputs": [
    {
     "output_type": "stream",
     "name": "stdout",
     "text": [
      "[(100, '如何成為好人'), (1000, '如何不工作'), (500, '如何睡好覺'), (50, '如何變強'), (500, '如何睡好覺II')]\n"
     ]
    }
   ],
   "metadata": {}
  },
  {
   "cell_type": "code",
   "execution_count": 87,
   "source": [
    "count_data = [\n",
    "    (post['views'], post['title'])\n",
    "    for post in posts\n",
    "]\n",
    "count_views = sorted(count_data [:3])\n",
    "\n",
    "print(count_views)"
   ],
   "outputs": [
    {
     "output_type": "stream",
     "name": "stdout",
     "text": [
      "[(100, '如何成為好人'), (500, '如何睡好覺'), (1000, '如何不工作')]\n"
     ]
    }
   ],
   "metadata": {}
  },
  {
   "cell_type": "markdown",
   "source": [
    "### intuitive"
   ],
   "metadata": {
    "id": "TzVtJAjbH8Yy"
   }
  },
  {
   "cell_type": "markdown",
   "source": [
    "### 最簡做法 (sorted list)"
   ],
   "metadata": {
    "id": "H1D8CeUz_2W6"
   }
  },
  {
   "cell_type": "markdown",
   "source": [
    "- [Python List 的 sort 與 sorted 排序用法教學與範例](https://officeguide.cc/python-sort-sorted-tutorial-examples/)\n",
    "- [W3Schoo: Python List sort() Method](https://www.w3schools.com/python/ref_list_sort.asp)"
   ],
   "metadata": {
    "id": "qwyKexP4_2W6"
   }
  },
  {
   "cell_type": "markdown",
   "source": [
    "### 🐼 Pandas"
   ],
   "metadata": {
    "id": "CpIiA-sKFXeA"
   }
  },
  {
   "cell_type": "code",
   "execution_count": null,
   "source": [
    "import pandas as pd\n",
    "\n",
    "df = pd.DataFrame(data=posts)\n",
    "df['popularity'] = df['views'].map(lambda x: '爆' if x > 200 else '普')\n",
    "\n",
    "df"
   ],
   "outputs": [
    {
     "output_type": "execute_result",
     "data": {
      "text/html": [
       "<div>\n",
       "<style scoped>\n",
       "    .dataframe tbody tr th:only-of-type {\n",
       "        vertical-align: middle;\n",
       "    }\n",
       "\n",
       "    .dataframe tbody tr th {\n",
       "        vertical-align: top;\n",
       "    }\n",
       "\n",
       "    .dataframe thead th {\n",
       "        text-align: right;\n",
       "    }\n",
       "</style>\n",
       "<table border=\"1\" class=\"dataframe\">\n",
       "  <thead>\n",
       "    <tr style=\"text-align: right;\">\n",
       "      <th></th>\n",
       "      <th>id</th>\n",
       "      <th>title</th>\n",
       "      <th>tags</th>\n",
       "      <th>views</th>\n",
       "      <th>popularity</th>\n",
       "    </tr>\n",
       "  </thead>\n",
       "  <tbody>\n",
       "    <tr>\n",
       "      <th>0</th>\n",
       "      <td>001</td>\n",
       "      <td>如何成為好人</td>\n",
       "      <td>[life, people]</td>\n",
       "      <td>100</td>\n",
       "      <td>普</td>\n",
       "    </tr>\n",
       "    <tr>\n",
       "      <th>1</th>\n",
       "      <td>002</td>\n",
       "      <td>如何不工作</td>\n",
       "      <td>[work, people]</td>\n",
       "      <td>1000</td>\n",
       "      <td>爆</td>\n",
       "    </tr>\n",
       "    <tr>\n",
       "      <th>2</th>\n",
       "      <td>003</td>\n",
       "      <td>如何睡好覺</td>\n",
       "      <td>[sleep, life, people]</td>\n",
       "      <td>500</td>\n",
       "      <td>爆</td>\n",
       "    </tr>\n",
       "    <tr>\n",
       "      <th>3</th>\n",
       "      <td>004</td>\n",
       "      <td>如何變強</td>\n",
       "      <td>[work, life, people]</td>\n",
       "      <td>50</td>\n",
       "      <td>普</td>\n",
       "    </tr>\n",
       "    <tr>\n",
       "      <th>4</th>\n",
       "      <td>005</td>\n",
       "      <td>如何睡好覺II</td>\n",
       "      <td>[sleep, life, people]</td>\n",
       "      <td>500</td>\n",
       "      <td>爆</td>\n",
       "    </tr>\n",
       "  </tbody>\n",
       "</table>\n",
       "</div>"
      ],
      "text/plain": [
       "    id    title                   tags  views popularity\n",
       "0  001   如何成為好人         [life, people]    100          普\n",
       "1  002    如何不工作         [work, people]   1000          爆\n",
       "2  003    如何睡好覺  [sleep, life, people]    500          爆\n",
       "3  004     如何變強   [work, life, people]     50          普\n",
       "4  005  如何睡好覺II  [sleep, life, people]    500          爆"
      ]
     },
     "metadata": {},
     "execution_count": 35
    }
   ],
   "metadata": {
    "colab": {
     "base_uri": "https://localhost:8080/",
     "height": 266
    },
    "id": "bT4DeocPFgd3",
    "outputId": "081e837c-f1dd-45b5-bf7b-dc6a534fbbee"
   }
  },
  {
   "cell_type": "code",
   "execution_count": null,
   "source": [
    "df.views.mean()"
   ],
   "outputs": [
    {
     "output_type": "execute_result",
     "data": {
      "text/plain": [
       "430.0"
      ]
     },
     "metadata": {},
     "execution_count": 42
    }
   ],
   "metadata": {
    "colab": {
     "base_uri": "https://localhost:8080/"
    },
    "id": "WNoB2-NgHMSh",
    "outputId": "ea4059d6-184d-4729-f5d6-bdf1a360e98c"
   }
  },
  {
   "cell_type": "code",
   "execution_count": null,
   "source": [
    "df[df['views'] > 200]['title']\n",
    "\n",
    "# df[df['views'] > 200][['title', 'views']]"
   ],
   "outputs": [
    {
     "output_type": "execute_result",
     "data": {
      "text/plain": [
       "1      如何不工作\n",
       "2      如何睡好覺\n",
       "4    如何睡好覺II\n",
       "Name: title, dtype: object"
      ]
     },
     "metadata": {},
     "execution_count": 41
    }
   ],
   "metadata": {
    "colab": {
     "base_uri": "https://localhost:8080/"
    },
    "id": "TpxS32aLG3_U",
    "outputId": "0863c262-bd8c-4049-f1ce-5c10fa51c564"
   }
  },
  {
   "cell_type": "code",
   "execution_count": null,
   "source": [
    "tagset = set()\n",
    "\n",
    "for x in df.tags:\n",
    "    tagset |= set(x)\n",
    "\n",
    "tagset"
   ],
   "outputs": [
    {
     "output_type": "execute_result",
     "data": {
      "text/plain": [
       "{'life', 'people', 'sleep', 'work'}"
      ]
     },
     "metadata": {},
     "execution_count": 36
    }
   ],
   "metadata": {
    "colab": {
     "base_uri": "https://localhost:8080/"
    },
    "id": "XcEgc3n9FuBa",
    "outputId": "b9836406-06b8-49c9-8da8-f875a2703455"
   }
  },
  {
   "cell_type": "code",
   "execution_count": null,
   "source": [
    "df.popularity.value_counts()"
   ],
   "outputs": [
    {
     "output_type": "execute_result",
     "data": {
      "text/plain": [
       "爆    3\n",
       "普    2\n",
       "Name: popularity, dtype: int64"
      ]
     },
     "metadata": {},
     "execution_count": 37
    }
   ],
   "metadata": {
    "colab": {
     "base_uri": "https://localhost:8080/"
    },
    "id": "Oua4tf_uGtG9",
    "outputId": "6239cab4-1d0e-447c-d1fb-58910e3b99af"
   }
  },
  {
   "cell_type": "code",
   "execution_count": null,
   "source": [
    "import pandas as pd\n",
    "\n",
    "df = pd.DataFrame(data=posts)\n",
    "\n",
    "df.iloc[df['views'].sort_values().index][['title', 'views']]"
   ],
   "outputs": [
    {
     "output_type": "execute_result",
     "data": {
      "text/html": [
       "<div>\n",
       "<style scoped>\n",
       "    .dataframe tbody tr th:only-of-type {\n",
       "        vertical-align: middle;\n",
       "    }\n",
       "\n",
       "    .dataframe tbody tr th {\n",
       "        vertical-align: top;\n",
       "    }\n",
       "\n",
       "    .dataframe thead th {\n",
       "        text-align: right;\n",
       "    }\n",
       "</style>\n",
       "<table border=\"1\" class=\"dataframe\">\n",
       "  <thead>\n",
       "    <tr style=\"text-align: right;\">\n",
       "      <th></th>\n",
       "      <th>title</th>\n",
       "      <th>views</th>\n",
       "    </tr>\n",
       "  </thead>\n",
       "  <tbody>\n",
       "    <tr>\n",
       "      <th>3</th>\n",
       "      <td>如何變強</td>\n",
       "      <td>50</td>\n",
       "    </tr>\n",
       "    <tr>\n",
       "      <th>0</th>\n",
       "      <td>如何成為好人</td>\n",
       "      <td>100</td>\n",
       "    </tr>\n",
       "    <tr>\n",
       "      <th>2</th>\n",
       "      <td>如何睡好覺</td>\n",
       "      <td>500</td>\n",
       "    </tr>\n",
       "    <tr>\n",
       "      <th>4</th>\n",
       "      <td>如何睡好覺II</td>\n",
       "      <td>500</td>\n",
       "    </tr>\n",
       "    <tr>\n",
       "      <th>1</th>\n",
       "      <td>如何不工作</td>\n",
       "      <td>1000</td>\n",
       "    </tr>\n",
       "  </tbody>\n",
       "</table>\n",
       "</div>"
      ],
      "text/plain": [
       "     title  views\n",
       "3     如何變強     50\n",
       "0   如何成為好人    100\n",
       "2    如何睡好覺    500\n",
       "4  如何睡好覺II    500\n",
       "1    如何不工作   1000"
      ]
     },
     "metadata": {},
     "execution_count": 28
    }
   ],
   "metadata": {
    "colab": {
     "base_uri": "https://localhost:8080/",
     "height": 266
    },
    "id": "t6hlifoeFZRF",
    "outputId": "2195226e-3501-4d7a-83c2-ec2c75c7b7ea"
   }
  }
 ],
 "metadata": {
  "colab": {
   "collapsed_sections": [],
   "name": "vanguard - solution to homework.ipynb",
   "provenance": [],
   "toc_visible": true
  },
  "kernelspec": {
   "name": "python3",
   "display_name": "Python 3.8.8 64-bit ('base': conda)"
  },
  "language_info": {
   "codemirror_mode": {
    "name": "ipython",
    "version": 3
   },
   "file_extension": ".py",
   "mimetype": "text/x-python",
   "name": "python",
   "nbconvert_exporter": "python",
   "pygments_lexer": "ipython3",
   "version": "3.8.8"
  },
  "interpreter": {
   "hash": "dca0ade3e726a953b501b15e8e990130d2b7799f14cfd9f4271676035ebe5511"
  }
 },
 "nbformat": 4,
 "nbformat_minor": 4
}